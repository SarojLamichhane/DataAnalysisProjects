{
 "cells": [
  {
   "cell_type": "code",
   "execution_count": null,
   "id": "53b55890-422a-41e4-9a9b-981b5814fcc7",
   "metadata": {},
   "outputs": [],
   "source": []
  }
 ],
 "metadata": {
  "kernelspec": {
   "display_name": "",
   "name": ""
  },
  "language_info": {
   "name": ""
  }
 },
 "nbformat": 4,
 "nbformat_minor": 5
}
