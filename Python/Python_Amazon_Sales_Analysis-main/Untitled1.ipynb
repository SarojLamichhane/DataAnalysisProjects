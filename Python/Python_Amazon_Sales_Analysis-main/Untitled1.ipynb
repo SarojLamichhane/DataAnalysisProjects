{
 "cells": [
  {
   "cell_type": "code",
   "execution_count": 1,
   "id": "03b6c897-fdf0-41d2-8d8f-d067a3bc1c6d",
   "metadata": {},
   "outputs": [
    {
     "name": "stdout",
     "output_type": "stream",
     "text": [
      "9\n"
     ]
    }
   ],
   "source": [
    "print(4+5)"
   ]
  },
  {
   "cell_type": "code",
   "execution_count": 5,
   "id": "7c1cf346-c726-417c-bc25-93d8e16e9ab0",
   "metadata": {},
   "outputs": [],
   "source": [
    "f=open(\"README.md\", \"r\")"
   ]
  },
  {
   "cell_type": "code",
   "execution_count": 6,
   "id": "c3b7f63c-d41f-4298-bf07-6a20a19a6d0c",
   "metadata": {},
   "outputs": [
    {
     "name": "stdout",
     "output_type": "stream",
     "text": [
      "# Python_Amazon_Sales_Analysis\n",
      "\n",
      "Python project for beginners- Analyze Amazon sales data to check the buyers preferred choice in the sales\n",
      "\n"
     ]
    }
   ],
   "source": [
    "print(f.read())"
   ]
  },
  {
   "cell_type": "code",
   "execution_count": 12,
   "id": "447a147f-caad-4777-939a-f1db45642a32",
   "metadata": {},
   "outputs": [
    {
     "name": "stdout",
     "output_type": "stream",
     "text": [
      "[]\n"
     ]
    }
   ],
   "source": [
    "print(f.readlines(2))"
   ]
  },
  {
   "cell_type": "code",
   "execution_count": 17,
   "id": "0c218b0d-1cd8-45c9-9175-55e3c56e52a2",
   "metadata": {},
   "outputs": [],
   "source": [
    "g=open(\"README.md\",\"a\")\n",
    "g.write(\"this text will be added\")\n",
    "g.close()"
   ]
  },
  {
   "cell_type": "code",
   "execution_count": 18,
   "id": "741591df-b34c-4652-b88a-f1cc7e7b252f",
   "metadata": {},
   "outputs": [
    {
     "name": "stdout",
     "output_type": "stream",
     "text": [
      "# Python_Amazon_Sales_Analysis\n",
      "\n",
      "Python project for beginners- Analyze Amazon sales data to check the buyers preferred choice in the sales\n",
      "this text will be added\n"
     ]
    }
   ],
   "source": [
    "g=open(\"README.md\",\"r\")\n",
    "print(g.read())"
   ]
  },
  {
   "cell_type": "code",
   "execution_count": 24,
   "id": "19f49be7-1ac2-4534-8ba7-67cd01bbdd62",
   "metadata": {},
   "outputs": [
    {
     "name": "stdout",
     "output_type": "stream",
     "text": [
      "<class 'numpy.ndarray'>\n",
      "[ 3  5  7  9 20 50]\n"
     ]
    }
   ],
   "source": [
    "import numpy as np\n",
    "arr= np.array([3,5,7,9,20,50])\n",
    "\n",
    "print(type(arr))\n",
    "print(arr)"
   ]
  },
  {
   "cell_type": "code",
   "execution_count": 25,
   "id": "7a2c4d49-6cae-48d0-acd6-d149fad840d7",
   "metadata": {},
   "outputs": [
    {
     "name": "stdout",
     "output_type": "stream",
     "text": [
      "1.26.4\n"
     ]
    }
   ],
   "source": [
    "print(np.__version__)"
   ]
  },
  {
   "cell_type": "code",
   "execution_count": 26,
   "id": "2a2414db-010d-4883-a674-c28dbae80abb",
   "metadata": {},
   "outputs": [
    {
     "name": "stdout",
     "output_type": "stream",
     "text": [
      "[5 6 7 8 9]\n"
     ]
    }
   ],
   "source": [
    "arr= np.array((5,6,7,8,9))\n",
    "print(arr)"
   ]
  },
  {
   "cell_type": "code",
   "execution_count": 34,
   "id": "146db406-4d91-4db8-ac49-1e3619a630c9",
   "metadata": {},
   "outputs": [
    {
     "name": "stdout",
     "output_type": "stream",
     "text": [
      "[[[ 4  3 21  4]\n",
      "  [ 6  7  8  9]]\n",
      "\n",
      " [[ 4  3  2  4]\n",
      "  [ 6  7  5  9]]]\n",
      "0\n",
      "1\n",
      "2\n",
      "3\n"
     ]
    }
   ],
   "source": [
    "a = np.array(42)\n",
    "b = np.array([5,4,3,21,4])\n",
    "c = np.array([[4,3,21,4],[6,7,8,9]])\n",
    "d = np.array([[[4,3,21,4],[6,7,8,9]], [[4,3,2,4],[6,7,5,9]]])\n",
    "\n",
    "print(d)\n",
    "print(a.ndim)\n",
    "print(b.ndim)\n",
    "print(c.ndim)\n",
    "print(d.ndim)"
   ]
  },
  {
   "cell_type": "code",
   "execution_count": 30,
   "id": "f39739fc-c409-4fac-aa00-5d7d89828d3f",
   "metadata": {},
   "outputs": [
    {
     "name": "stdout",
     "output_type": "stream",
     "text": [
      "5\n",
      "[[[[[42]]]]]\n"
     ]
    }
   ],
   "source": [
    "a = np.array(42 , ndmin=5)\n",
    "\n",
    "print(a.ndim)\n",
    "print(a)"
   ]
  },
  {
   "cell_type": "code",
   "execution_count": 32,
   "id": "2becf2aa-6113-45fb-89ef-55f99baea14e",
   "metadata": {},
   "outputs": [
    {
     "name": "stdout",
     "output_type": "stream",
     "text": [
      "4\n",
      "24\n"
     ]
    }
   ],
   "source": [
    "b = np.array([5,4,3,21,4])\n",
    "\n",
    "print(b[1])\n",
    "print(b[2] + b[3])"
   ]
  },
  {
   "cell_type": "code",
   "execution_count": 33,
   "id": "da90b542-951b-40d3-abc2-064f74c3eb9e",
   "metadata": {},
   "outputs": [
    {
     "name": "stdout",
     "output_type": "stream",
     "text": [
      "the second number of second row is 7\n"
     ]
    }
   ],
   "source": [
    "c = np.array([[4,3,21,4],[6,7,8,9]])\n",
    "\n",
    "print('the second number of second row is', c[1][1])"
   ]
  },
  {
   "cell_type": "code",
   "execution_count": 39,
   "id": "b219fa1b-c242-4b15-9679-5a1e49827877",
   "metadata": {},
   "outputs": [
    {
     "name": "stdout",
     "output_type": "stream",
     "text": [
      "[4 5 6 7 8 9]\n",
      "[2 5 6 7 8 9]\n",
      "[2 5 6 3 8 9]\n",
      "[2 5 6 7 8 9]\n"
     ]
    }
   ],
   "source": [
    "saroj = np.array([4,5,6,7,8,9])\n",
    "print(saroj)\n",
    "saroj[0] = 2\n",
    "print(saroj)\n",
    "\n",
    "asmi = saroj.copy()\n",
    "asmi[3]= 3\n",
    "print(asmi)\n",
    "print(saroj)"
   ]
  },
  {
   "cell_type": "code",
   "execution_count": 43,
   "id": "e679c8ff-62b3-45b6-a8d7-6f64a017b6b8",
   "metadata": {},
   "outputs": [
    {
     "name": "stdout",
     "output_type": "stream",
     "text": [
      "64\n"
     ]
    }
   ],
   "source": [
    "from numpy import random\n",
    "x = random.randint(100)\n",
    "print(x)"
   ]
  },
  {
   "cell_type": "code",
   "execution_count": 47,
   "id": "5a3e46db-b7a1-4f16-b651-18d4cb76b946",
   "metadata": {},
   "outputs": [
    {
     "name": "stdout",
     "output_type": "stream",
     "text": [
      "[17 40 93 50 44  1]\n"
     ]
    }
   ],
   "source": [
    "x = random.randint(100, size=(6))\n",
    "print(x)"
   ]
  },
  {
   "cell_type": "code",
   "execution_count": 52,
   "id": "9c76f6cb-b644-4062-b14f-b884f03dd33f",
   "metadata": {},
   "outputs": [
    {
     "data": {
      "image/png": "[encoded data removed]",
      "text/plain": [
       "<Figure size 500x500 with 1 Axes>"
      ]
     },
     "metadata": {},
     "output_type": "display_data"
    }
   ],
   "source": [
    "import matplotlib.pyplot as plt\n",
    "import seaborn as sns\n",
    "\n",
    "sns.displot([0, 1, 2, 3, 4, 5])\n",
    "\n",
    "plt.show()"
   ]
  },
  {
   "cell_type": "code",
   "execution_count": 68,
   "id": "2bd3d7c6-b070-49ac-bca2-0bbc9778be1c",
   "metadata": {},
   "outputs": [
    {
     "name": "stdout",
     "output_type": "stream",
     "text": [
      "[50.56906242 57.55841232 63.99921921 40.46687473 54.42031479 49.90286202\n",
      " 54.67216674 40.67852434 42.02665819 55.86472402]\n"
     ]
    }
   ],
   "source": [
    "from numpy import random\n",
    "import matplotlib.pyplot as plt\n",
    "import seaborn as sns\n",
    "\n",
    "arr = random.normal(loc=50, scale=7, size=10)\n",
    "\n",
    "print(arr)\n"
   ]
  },
  {
   "cell_type": "code",
   "execution_count": null,
   "id": "50c68979-7f70-49c1-bf8a-31055468dac2",
   "metadata": {},
   "outputs": [],
   "source": []
  },
  {
   "cell_type": "code",
   "execution_count": 70,
   "id": "ccf07aa3-d54e-40f5-bbf2-87fdd25f827e",
   "metadata": {},
   "outputs": [
    {
     "name": "stdout",
     "output_type": "stream",
     "text": [
      "[ 5  7  9 11]\n"
     ]
    }
   ],
   "source": [
    "one = [4,5,6,7]\n",
    "two = [1,2,3,4]\n",
    "three = np.add(one, two)\n",
    "print(three)"
   ]
  },
  {
   "cell_type": "code",
   "execution_count": 76,
   "id": "f9513492-07b8-4801-9c5a-4ef5d817ff74",
   "metadata": {},
   "outputs": [
    {
     "name": "stdout",
     "output_type": "stream",
     "text": [
      "      car    model  year\n",
      "0  Hyudai     Ix35  2015\n",
      "1  Toyota  Corolla  2008\n",
      "2   Honda    Acord  2009\n"
     ]
    }
   ],
   "source": [
    "import pandas as pd\n",
    "\n",
    "mydata= {\n",
    "    'car': [\"Hyudai\",\"Toyota\", \"Honda\"],\n",
    "    'model':[\"Ix35\",\"Corolla\", \"Acord\"],\n",
    "    'year' :[2015,2008,2009]\n",
    "}\n",
    "\n",
    "firstpanda = pd.DataFrame(mydata)\n",
    "print(firstpanda)\n"
   ]
  },
  {
   "cell_type": "code",
   "execution_count": 77,
   "id": "1659b0dd-d3ca-4dc3-b03c-8afbc82a336a",
   "metadata": {},
   "outputs": [
    {
     "name": "stdout",
     "output_type": "stream",
     "text": [
      "2.2.1\n"
     ]
    }
   ],
   "source": [
    "print(pd.__version__)"
   ]
  },
  {
   "cell_type": "code",
   "execution_count": 78,
   "id": "971a3873-1006-41d5-ba30-786a8c0f672f",
   "metadata": {},
   "outputs": [
    {
     "name": "stdout",
     "output_type": "stream",
     "text": [
      "a    4\n",
      "b    3\n",
      "c    2\n",
      "d    2\n",
      "e    5\n",
      "f    5\n",
      "g    6\n",
      "h    7\n",
      "i    7\n",
      "j    8\n",
      "dtype: int64\n"
     ]
    }
   ],
   "source": [
    "x =  [4,3,2,2,5,5,6,7,7,8]\n",
    "y = pd.Series(x, index=[\"a\",\"b\",\"c\",\"d\",\"e\",\"f\",\"g\",\"h\",\"i\",\"j\",])\n",
    "\n",
    "print(y)"
   ]
  },
  {
   "cell_type": "code",
   "execution_count": 79,
   "id": "f63b1bcc-6dc4-44b5-a2cf-6a69585fc68a",
   "metadata": {},
   "outputs": [
    {
     "name": "stdout",
     "output_type": "stream",
     "text": [
      "60\n"
     ]
    }
   ],
   "source": [
    "print(pd.options.display.max_rows) \n"
   ]
  },
  {
   "cell_type": "code",
   "execution_count": 88,
   "id": "af1f5a60-c945-4ae1-beee-ff22a993501f",
   "metadata": {},
   "outputs": [],
   "source": [
    "df=pd.read_csv('Amazon Sale Report.csv')\n"
   ]
  },
  {
   "cell_type": "code",
   "execution_count": 89,
   "id": "ccecab89-adf5-419a-be27-fbad982d02df",
   "metadata": {},
   "outputs": [
    {
     "data": {
      "text/plain": [
       "(128976, 21)"
      ]
     },
     "execution_count": 89,
     "metadata": {},
     "output_type": "execute_result"
    }
   ],
   "source": [
    "df.shape"
   ]
  },
  {
   "cell_type": "code",
   "execution_count": 97,
   "id": "1cf44fd8-998f-473d-a96f-136c612712ce",
   "metadata": {},
   "outputs": [
    {
     "data": {
      "text/html": [
       "<div>\n",
       "<style scoped>\n",
       "    .dataframe tbody tr th:only-of-type {\n",
       "        vertical-align: middle;\n",
       "    }\n",
       "\n",
       "    .dataframe tbody tr th {\n",
       "        vertical-align: top;\n",
       "    }\n",
       "\n",
       "    .dataframe thead th {\n",
       "        text-align: right;\n",
       "    }\n",
       "</style>\n",
       "<table border=\"1\" class=\"dataframe\">\n",
       "  <thead>\n",
       "    <tr style=\"text-align: right;\">\n",
       "      <th></th>\n",
       "      <th>index</th>\n",
       "      <th>Order ID</th>\n",
       "      <th>Date</th>\n",
       "      <th>Status</th>\n",
       "      <th>Fulfilment</th>\n",
       "      <th>Sales Channel</th>\n",
       "      <th>ship-service-level</th>\n",
       "      <th>Category</th>\n",
       "      <th>Size</th>\n",
       "      <th>Courier Status</th>\n",
       "      <th>...</th>\n",
       "      <th>currency</th>\n",
       "      <th>Amount</th>\n",
       "      <th>ship-city</th>\n",
       "      <th>ship-state</th>\n",
       "      <th>ship-postal-code</th>\n",
       "      <th>ship-country</th>\n",
       "      <th>B2B</th>\n",
       "      <th>fulfilled-by</th>\n",
       "      <th>New</th>\n",
       "      <th>PendingS</th>\n",
       "    </tr>\n",
       "  </thead>\n",
       "  <tbody>\n",
       "    <tr>\n",
       "      <th>0</th>\n",
       "      <td>0</td>\n",
       "      <td>405-8078784-5731545</td>\n",
       "      <td>04-30-22</td>\n",
       "      <td>Cancelled</td>\n",
       "      <td>Merchant</td>\n",
       "      <td>Amazon.in</td>\n",
       "      <td>Standard</td>\n",
       "      <td>T-shirt</td>\n",
       "      <td>S</td>\n",
       "      <td>On the Way</td>\n",
       "      <td>...</td>\n",
       "      <td>INR</td>\n",
       "      <td>647.62</td>\n",
       "      <td>MUMBAI</td>\n",
       "      <td>MAHARASHTRA</td>\n",
       "      <td>400081.0</td>\n",
       "      <td>IN</td>\n",
       "      <td>False</td>\n",
       "      <td>Easy Ship</td>\n",
       "      <td>NaN</td>\n",
       "      <td>NaN</td>\n",
       "    </tr>\n",
       "    <tr>\n",
       "      <th>1</th>\n",
       "      <td>1</td>\n",
       "      <td>171-9198151-1101146</td>\n",
       "      <td>04-30-22</td>\n",
       "      <td>Shipped - Delivered to Buyer</td>\n",
       "      <td>Merchant</td>\n",
       "      <td>Amazon.in</td>\n",
       "      <td>Standard</td>\n",
       "      <td>Shirt</td>\n",
       "      <td>3XL</td>\n",
       "      <td>Shipped</td>\n",
       "      <td>...</td>\n",
       "      <td>INR</td>\n",
       "      <td>406.00</td>\n",
       "      <td>BENGALURU</td>\n",
       "      <td>KARNATAKA</td>\n",
       "      <td>560085.0</td>\n",
       "      <td>IN</td>\n",
       "      <td>False</td>\n",
       "      <td>Easy Ship</td>\n",
       "      <td>NaN</td>\n",
       "      <td>NaN</td>\n",
       "    </tr>\n",
       "    <tr>\n",
       "      <th>2</th>\n",
       "      <td>2</td>\n",
       "      <td>404-0687676-7273146</td>\n",
       "      <td>04-30-22</td>\n",
       "      <td>Shipped</td>\n",
       "      <td>Amazon</td>\n",
       "      <td>Amazon.in</td>\n",
       "      <td>Expedited</td>\n",
       "      <td>Shirt</td>\n",
       "      <td>XL</td>\n",
       "      <td>Shipped</td>\n",
       "      <td>...</td>\n",
       "      <td>INR</td>\n",
       "      <td>329.00</td>\n",
       "      <td>NAVI MUMBAI</td>\n",
       "      <td>MAHARASHTRA</td>\n",
       "      <td>410210.0</td>\n",
       "      <td>IN</td>\n",
       "      <td>True</td>\n",
       "      <td>NaN</td>\n",
       "      <td>NaN</td>\n",
       "      <td>NaN</td>\n",
       "    </tr>\n",
       "    <tr>\n",
       "      <th>3</th>\n",
       "      <td>3</td>\n",
       "      <td>403-9615377-8133951</td>\n",
       "      <td>04-30-22</td>\n",
       "      <td>Cancelled</td>\n",
       "      <td>Merchant</td>\n",
       "      <td>Amazon.in</td>\n",
       "      <td>Standard</td>\n",
       "      <td>Blazzer</td>\n",
       "      <td>L</td>\n",
       "      <td>On the Way</td>\n",
       "      <td>...</td>\n",
       "      <td>INR</td>\n",
       "      <td>753.33</td>\n",
       "      <td>PUDUCHERRY</td>\n",
       "      <td>PUDUCHERRY</td>\n",
       "      <td>605008.0</td>\n",
       "      <td>IN</td>\n",
       "      <td>False</td>\n",
       "      <td>Easy Ship</td>\n",
       "      <td>NaN</td>\n",
       "      <td>NaN</td>\n",
       "    </tr>\n",
       "    <tr>\n",
       "      <th>4</th>\n",
       "      <td>4</td>\n",
       "      <td>407-1069790-7240320</td>\n",
       "      <td>04-30-22</td>\n",
       "      <td>Shipped</td>\n",
       "      <td>Amazon</td>\n",
       "      <td>Amazon.in</td>\n",
       "      <td>Expedited</td>\n",
       "      <td>Trousers</td>\n",
       "      <td>3XL</td>\n",
       "      <td>Shipped</td>\n",
       "      <td>...</td>\n",
       "      <td>INR</td>\n",
       "      <td>574.00</td>\n",
       "      <td>CHENNAI</td>\n",
       "      <td>TAMIL NADU</td>\n",
       "      <td>600073.0</td>\n",
       "      <td>IN</td>\n",
       "      <td>False</td>\n",
       "      <td>NaN</td>\n",
       "      <td>NaN</td>\n",
       "      <td>NaN</td>\n",
       "    </tr>\n",
       "    <tr>\n",
       "      <th>5</th>\n",
       "      <td>5</td>\n",
       "      <td>404-1490984-4578765</td>\n",
       "      <td>04-30-22</td>\n",
       "      <td>Shipped</td>\n",
       "      <td>Amazon</td>\n",
       "      <td>Amazon.in</td>\n",
       "      <td>Expedited</td>\n",
       "      <td>T-shirt</td>\n",
       "      <td>XL</td>\n",
       "      <td>Shipped</td>\n",
       "      <td>...</td>\n",
       "      <td>INR</td>\n",
       "      <td>824.00</td>\n",
       "      <td>GHAZIABAD</td>\n",
       "      <td>UTTAR PRADESH</td>\n",
       "      <td>201102.0</td>\n",
       "      <td>IN</td>\n",
       "      <td>False</td>\n",
       "      <td>NaN</td>\n",
       "      <td>NaN</td>\n",
       "      <td>NaN</td>\n",
       "    </tr>\n",
       "    <tr>\n",
       "      <th>6</th>\n",
       "      <td>6</td>\n",
       "      <td>408-5748499-6859555</td>\n",
       "      <td>04-30-22</td>\n",
       "      <td>Shipped</td>\n",
       "      <td>Amazon</td>\n",
       "      <td>Amazon.in</td>\n",
       "      <td>Expedited</td>\n",
       "      <td>T-shirt</td>\n",
       "      <td>L</td>\n",
       "      <td>Shipped</td>\n",
       "      <td>...</td>\n",
       "      <td>INR</td>\n",
       "      <td>653.00</td>\n",
       "      <td>CHANDIGARH</td>\n",
       "      <td>CHANDIGARH</td>\n",
       "      <td>160036.0</td>\n",
       "      <td>IN</td>\n",
       "      <td>False</td>\n",
       "      <td>NaN</td>\n",
       "      <td>NaN</td>\n",
       "      <td>NaN</td>\n",
       "    </tr>\n",
       "    <tr>\n",
       "      <th>7</th>\n",
       "      <td>7</td>\n",
       "      <td>406-7807733-3785945</td>\n",
       "      <td>04-30-22</td>\n",
       "      <td>Shipped - Delivered to Buyer</td>\n",
       "      <td>Merchant</td>\n",
       "      <td>Amazon.in</td>\n",
       "      <td>Standard</td>\n",
       "      <td>Shirt</td>\n",
       "      <td>S</td>\n",
       "      <td>Shipped</td>\n",
       "      <td>...</td>\n",
       "      <td>INR</td>\n",
       "      <td>399.00</td>\n",
       "      <td>HYDERABAD</td>\n",
       "      <td>TELANGANA</td>\n",
       "      <td>500032.0</td>\n",
       "      <td>IN</td>\n",
       "      <td>False</td>\n",
       "      <td>Easy Ship</td>\n",
       "      <td>NaN</td>\n",
       "      <td>NaN</td>\n",
       "    </tr>\n",
       "    <tr>\n",
       "      <th>8</th>\n",
       "      <td>8</td>\n",
       "      <td>407-5443024-5233168</td>\n",
       "      <td>04-30-22</td>\n",
       "      <td>Cancelled</td>\n",
       "      <td>Amazon</td>\n",
       "      <td>Amazon.in</td>\n",
       "      <td>Expedited</td>\n",
       "      <td>T-shirt</td>\n",
       "      <td>3XL</td>\n",
       "      <td>Cancelled</td>\n",
       "      <td>...</td>\n",
       "      <td>NaN</td>\n",
       "      <td>NaN</td>\n",
       "      <td>HYDERABAD</td>\n",
       "      <td>TELANGANA</td>\n",
       "      <td>500008.0</td>\n",
       "      <td>IN</td>\n",
       "      <td>False</td>\n",
       "      <td>NaN</td>\n",
       "      <td>NaN</td>\n",
       "      <td>NaN</td>\n",
       "    </tr>\n",
       "    <tr>\n",
       "      <th>9</th>\n",
       "      <td>9</td>\n",
       "      <td>402-4393761-0311520</td>\n",
       "      <td>04-30-22</td>\n",
       "      <td>Shipped</td>\n",
       "      <td>Amazon</td>\n",
       "      <td>Amazon.in</td>\n",
       "      <td>Expedited</td>\n",
       "      <td>Shirt</td>\n",
       "      <td>XXL</td>\n",
       "      <td>Shipped</td>\n",
       "      <td>...</td>\n",
       "      <td>INR</td>\n",
       "      <td>363.00</td>\n",
       "      <td>Chennai</td>\n",
       "      <td>TAMIL NADU</td>\n",
       "      <td>600041.0</td>\n",
       "      <td>IN</td>\n",
       "      <td>False</td>\n",
       "      <td>NaN</td>\n",
       "      <td>NaN</td>\n",
       "      <td>NaN</td>\n",
       "    </tr>\n",
       "    <tr>\n",
       "      <th>10</th>\n",
       "      <td>10</td>\n",
       "      <td>407-5633625-6970741</td>\n",
       "      <td>04-30-22</td>\n",
       "      <td>Shipped</td>\n",
       "      <td>Amazon</td>\n",
       "      <td>Amazon.in</td>\n",
       "      <td>Expedited</td>\n",
       "      <td>Shirt</td>\n",
       "      <td>S</td>\n",
       "      <td>Shipped</td>\n",
       "      <td>...</td>\n",
       "      <td>INR</td>\n",
       "      <td>685.00</td>\n",
       "      <td>CHENNAI</td>\n",
       "      <td>TAMIL NADU</td>\n",
       "      <td>600073.0</td>\n",
       "      <td>IN</td>\n",
       "      <td>False</td>\n",
       "      <td>NaN</td>\n",
       "      <td>NaN</td>\n",
       "      <td>NaN</td>\n",
       "    </tr>\n",
       "    <tr>\n",
       "      <th>11</th>\n",
       "      <td>11</td>\n",
       "      <td>171-4638481-6326716</td>\n",
       "      <td>04-30-22</td>\n",
       "      <td>Shipped</td>\n",
       "      <td>Amazon</td>\n",
       "      <td>Amazon.in</td>\n",
       "      <td>Expedited</td>\n",
       "      <td>Shirt</td>\n",
       "      <td>XS</td>\n",
       "      <td>Shipped</td>\n",
       "      <td>...</td>\n",
       "      <td>INR</td>\n",
       "      <td>364.00</td>\n",
       "      <td>NOIDA</td>\n",
       "      <td>UTTAR PRADESH</td>\n",
       "      <td>201303.0</td>\n",
       "      <td>IN</td>\n",
       "      <td>False</td>\n",
       "      <td>NaN</td>\n",
       "      <td>NaN</td>\n",
       "      <td>NaN</td>\n",
       "    </tr>\n",
       "    <tr>\n",
       "      <th>12</th>\n",
       "      <td>12</td>\n",
       "      <td>405-5513694-8146768</td>\n",
       "      <td>04-30-22</td>\n",
       "      <td>Shipped - Delivered to Buyer</td>\n",
       "      <td>Merchant</td>\n",
       "      <td>Amazon.in</td>\n",
       "      <td>Standard</td>\n",
       "      <td>Shirt</td>\n",
       "      <td>XS</td>\n",
       "      <td>Shipped</td>\n",
       "      <td>...</td>\n",
       "      <td>INR</td>\n",
       "      <td>399.00</td>\n",
       "      <td>Amravati.</td>\n",
       "      <td>MAHARASHTRA</td>\n",
       "      <td>444606.0</td>\n",
       "      <td>IN</td>\n",
       "      <td>False</td>\n",
       "      <td>Easy Ship</td>\n",
       "      <td>NaN</td>\n",
       "      <td>NaN</td>\n",
       "    </tr>\n",
       "    <tr>\n",
       "      <th>13</th>\n",
       "      <td>13</td>\n",
       "      <td>408-7955685-3083534</td>\n",
       "      <td>04-30-22</td>\n",
       "      <td>Shipped</td>\n",
       "      <td>Amazon</td>\n",
       "      <td>Amazon.in</td>\n",
       "      <td>Expedited</td>\n",
       "      <td>T-shirt</td>\n",
       "      <td>XS</td>\n",
       "      <td>Shipped</td>\n",
       "      <td>...</td>\n",
       "      <td>INR</td>\n",
       "      <td>657.00</td>\n",
       "      <td>MUMBAI</td>\n",
       "      <td>MAHARASHTRA</td>\n",
       "      <td>400053.0</td>\n",
       "      <td>IN</td>\n",
       "      <td>False</td>\n",
       "      <td>NaN</td>\n",
       "      <td>NaN</td>\n",
       "      <td>NaN</td>\n",
       "    </tr>\n",
       "    <tr>\n",
       "      <th>14</th>\n",
       "      <td>14</td>\n",
       "      <td>408-1298370-1920302</td>\n",
       "      <td>04-30-22</td>\n",
       "      <td>Shipped - Delivered to Buyer</td>\n",
       "      <td>Merchant</td>\n",
       "      <td>Amazon.in</td>\n",
       "      <td>Standard</td>\n",
       "      <td>T-shirt</td>\n",
       "      <td>L</td>\n",
       "      <td>Shipped</td>\n",
       "      <td>...</td>\n",
       "      <td>INR</td>\n",
       "      <td>771.00</td>\n",
       "      <td>MUMBAI</td>\n",
       "      <td>MAHARASHTRA</td>\n",
       "      <td>400053.0</td>\n",
       "      <td>IN</td>\n",
       "      <td>False</td>\n",
       "      <td>Easy Ship</td>\n",
       "      <td>NaN</td>\n",
       "      <td>NaN</td>\n",
       "    </tr>\n",
       "    <tr>\n",
       "      <th>15</th>\n",
       "      <td>15</td>\n",
       "      <td>403-4965581-9520319</td>\n",
       "      <td>04-30-22</td>\n",
       "      <td>Shipped - Delivered to Buyer</td>\n",
       "      <td>Merchant</td>\n",
       "      <td>Amazon.in</td>\n",
       "      <td>Standard</td>\n",
       "      <td>Shirt</td>\n",
       "      <td>6XL</td>\n",
       "      <td>Shipped</td>\n",
       "      <td>...</td>\n",
       "      <td>INR</td>\n",
       "      <td>544.00</td>\n",
       "      <td>GUNTAKAL</td>\n",
       "      <td>ANDHRA PRADESH</td>\n",
       "      <td>515801.0</td>\n",
       "      <td>IN</td>\n",
       "      <td>False</td>\n",
       "      <td>Easy Ship</td>\n",
       "      <td>NaN</td>\n",
       "      <td>NaN</td>\n",
       "    </tr>\n",
       "    <tr>\n",
       "      <th>16</th>\n",
       "      <td>16</td>\n",
       "      <td>406-9379318-6555504</td>\n",
       "      <td>04-30-22</td>\n",
       "      <td>Shipped</td>\n",
       "      <td>Amazon</td>\n",
       "      <td>Amazon.in</td>\n",
       "      <td>Expedited</td>\n",
       "      <td>Shirt</td>\n",
       "      <td>XXL</td>\n",
       "      <td>Shipped</td>\n",
       "      <td>...</td>\n",
       "      <td>INR</td>\n",
       "      <td>329.00</td>\n",
       "      <td>JAIPUR</td>\n",
       "      <td>RAJASTHAN</td>\n",
       "      <td>302020.0</td>\n",
       "      <td>IN</td>\n",
       "      <td>False</td>\n",
       "      <td>NaN</td>\n",
       "      <td>NaN</td>\n",
       "      <td>NaN</td>\n",
       "    </tr>\n",
       "    <tr>\n",
       "      <th>17</th>\n",
       "      <td>17</td>\n",
       "      <td>405-9013803-8009918</td>\n",
       "      <td>04-30-22</td>\n",
       "      <td>Shipped</td>\n",
       "      <td>Amazon</td>\n",
       "      <td>Amazon.in</td>\n",
       "      <td>Expedited</td>\n",
       "      <td>Shirt</td>\n",
       "      <td>XL</td>\n",
       "      <td>Shipped</td>\n",
       "      <td>...</td>\n",
       "      <td>INR</td>\n",
       "      <td>399.00</td>\n",
       "      <td>NEW DELHI</td>\n",
       "      <td>DELHI</td>\n",
       "      <td>110074.0</td>\n",
       "      <td>IN</td>\n",
       "      <td>False</td>\n",
       "      <td>NaN</td>\n",
       "      <td>NaN</td>\n",
       "      <td>NaN</td>\n",
       "    </tr>\n",
       "    <tr>\n",
       "      <th>18</th>\n",
       "      <td>18</td>\n",
       "      <td>402-4030358-5835511</td>\n",
       "      <td>04-30-22</td>\n",
       "      <td>Shipped - Delivered to Buyer</td>\n",
       "      <td>Merchant</td>\n",
       "      <td>Amazon.in</td>\n",
       "      <td>Standard</td>\n",
       "      <td>Shirt</td>\n",
       "      <td>XXL</td>\n",
       "      <td>Shipped</td>\n",
       "      <td>...</td>\n",
       "      <td>INR</td>\n",
       "      <td>458.00</td>\n",
       "      <td>Gurgaon</td>\n",
       "      <td>HARYANA</td>\n",
       "      <td>122004.0</td>\n",
       "      <td>IN</td>\n",
       "      <td>False</td>\n",
       "      <td>Easy Ship</td>\n",
       "      <td>NaN</td>\n",
       "      <td>NaN</td>\n",
       "    </tr>\n",
       "    <tr>\n",
       "      <th>19</th>\n",
       "      <td>19</td>\n",
       "      <td>405-5957858-1051546</td>\n",
       "      <td>04-30-22</td>\n",
       "      <td>Shipped</td>\n",
       "      <td>Amazon</td>\n",
       "      <td>Amazon.in</td>\n",
       "      <td>Expedited</td>\n",
       "      <td>T-shirt</td>\n",
       "      <td>XS</td>\n",
       "      <td>Shipped</td>\n",
       "      <td>...</td>\n",
       "      <td>INR</td>\n",
       "      <td>886.00</td>\n",
       "      <td>BENGALURU</td>\n",
       "      <td>KARNATAKA</td>\n",
       "      <td>560017.0</td>\n",
       "      <td>IN</td>\n",
       "      <td>False</td>\n",
       "      <td>NaN</td>\n",
       "      <td>NaN</td>\n",
       "      <td>NaN</td>\n",
       "    </tr>\n",
       "  </tbody>\n",
       "</table>\n",
       "<p>20 rows × 21 columns</p>\n",
       "</div>"
      ],
      "text/plain": [
       "    index             Order ID      Date                        Status  \\\n",
       "0       0  405-8078784-5731545  04-30-22                     Cancelled   \n",
       "1       1  171-9198151-1101146  04-30-22  Shipped - Delivered to Buyer   \n",
       "2       2  404-0687676-7273146  04-30-22                       Shipped   \n",
       "3       3  403-9615377-8133951  04-30-22                     Cancelled   \n",
       "4       4  407-1069790-7240320  04-30-22                       Shipped   \n",
       "5       5  404-1490984-4578765  04-30-22                       Shipped   \n",
       "6       6  408-5748499-6859555  04-30-22                       Shipped   \n",
       "7       7  406-7807733-3785945  04-30-22  Shipped - Delivered to Buyer   \n",
       "8       8  407-5443024-5233168  04-30-22                     Cancelled   \n",
       "9       9  402-4393761-0311520  04-30-22                       Shipped   \n",
       "10     10  407-5633625-6970741  04-30-22                       Shipped   \n",
       "11     11  171-4638481-6326716  04-30-22                       Shipped   \n",
       "12     12  405-5513694-8146768  04-30-22  Shipped - Delivered to Buyer   \n",
       "13     13  408-7955685-3083534  04-30-22                       Shipped   \n",
       "14     14  408-1298370-1920302  04-30-22  Shipped - Delivered to Buyer   \n",
       "15     15  403-4965581-9520319  04-30-22  Shipped - Delivered to Buyer   \n",
       "16     16  406-9379318-6555504  04-30-22                       Shipped   \n",
       "17     17  405-9013803-8009918  04-30-22                       Shipped   \n",
       "18     18  402-4030358-5835511  04-30-22  Shipped - Delivered to Buyer   \n",
       "19     19  405-5957858-1051546  04-30-22                       Shipped   \n",
       "\n",
       "   Fulfilment Sales Channel ship-service-level  Category Size Courier Status  \\\n",
       "0    Merchant     Amazon.in           Standard   T-shirt    S     On the Way   \n",
       "1    Merchant     Amazon.in           Standard     Shirt  3XL        Shipped   \n",
       "2      Amazon     Amazon.in          Expedited     Shirt   XL        Shipped   \n",
       "3    Merchant     Amazon.in           Standard   Blazzer    L     On the Way   \n",
       "4      Amazon     Amazon.in          Expedited  Trousers  3XL        Shipped   \n",
       "5      Amazon     Amazon.in          Expedited   T-shirt   XL        Shipped   \n",
       "6      Amazon     Amazon.in          Expedited   T-shirt    L        Shipped   \n",
       "7    Merchant     Amazon.in           Standard     Shirt    S        Shipped   \n",
       "8      Amazon     Amazon.in          Expedited   T-shirt  3XL      Cancelled   \n",
       "9      Amazon     Amazon.in          Expedited     Shirt  XXL        Shipped   \n",
       "10     Amazon     Amazon.in          Expedited     Shirt    S        Shipped   \n",
       "11     Amazon     Amazon.in          Expedited     Shirt   XS        Shipped   \n",
       "12   Merchant     Amazon.in           Standard     Shirt   XS        Shipped   \n",
       "13     Amazon     Amazon.in          Expedited   T-shirt   XS        Shipped   \n",
       "14   Merchant     Amazon.in           Standard   T-shirt    L        Shipped   \n",
       "15   Merchant     Amazon.in           Standard     Shirt  6XL        Shipped   \n",
       "16     Amazon     Amazon.in          Expedited     Shirt  XXL        Shipped   \n",
       "17     Amazon     Amazon.in          Expedited     Shirt   XL        Shipped   \n",
       "18   Merchant     Amazon.in           Standard     Shirt  XXL        Shipped   \n",
       "19     Amazon     Amazon.in          Expedited   T-shirt   XS        Shipped   \n",
       "\n",
       "    ...  currency  Amount    ship-city      ship-state ship-postal-code  \\\n",
       "0   ...       INR  647.62       MUMBAI     MAHARASHTRA         400081.0   \n",
       "1   ...       INR  406.00    BENGALURU       KARNATAKA         560085.0   \n",
       "2   ...       INR  329.00  NAVI MUMBAI     MAHARASHTRA         410210.0   \n",
       "3   ...       INR  753.33   PUDUCHERRY      PUDUCHERRY         605008.0   \n",
       "4   ...       INR  574.00      CHENNAI      TAMIL NADU         600073.0   \n",
       "5   ...       INR  824.00    GHAZIABAD   UTTAR PRADESH         201102.0   \n",
       "6   ...       INR  653.00   CHANDIGARH      CHANDIGARH         160036.0   \n",
       "7   ...       INR  399.00    HYDERABAD       TELANGANA         500032.0   \n",
       "8   ...       NaN     NaN    HYDERABAD       TELANGANA         500008.0   \n",
       "9   ...       INR  363.00      Chennai      TAMIL NADU         600041.0   \n",
       "10  ...       INR  685.00      CHENNAI      TAMIL NADU         600073.0   \n",
       "11  ...       INR  364.00        NOIDA   UTTAR PRADESH         201303.0   \n",
       "12  ...       INR  399.00    Amravati.     MAHARASHTRA         444606.0   \n",
       "13  ...       INR  657.00       MUMBAI     MAHARASHTRA         400053.0   \n",
       "14  ...       INR  771.00       MUMBAI     MAHARASHTRA         400053.0   \n",
       "15  ...       INR  544.00     GUNTAKAL  ANDHRA PRADESH         515801.0   \n",
       "16  ...       INR  329.00       JAIPUR       RAJASTHAN         302020.0   \n",
       "17  ...       INR  399.00    NEW DELHI           DELHI         110074.0   \n",
       "18  ...       INR  458.00      Gurgaon         HARYANA         122004.0   \n",
       "19  ...       INR  886.00    BENGALURU       KARNATAKA         560017.0   \n",
       "\n",
       "    ship-country    B2B  fulfilled-by New  PendingS  \n",
       "0             IN  False     Easy Ship NaN       NaN  \n",
       "1             IN  False     Easy Ship NaN       NaN  \n",
       "2             IN   True           NaN NaN       NaN  \n",
       "3             IN  False     Easy Ship NaN       NaN  \n",
       "4             IN  False           NaN NaN       NaN  \n",
       "5             IN  False           NaN NaN       NaN  \n",
       "6             IN  False           NaN NaN       NaN  \n",
       "7             IN  False     Easy Ship NaN       NaN  \n",
       "8             IN  False           NaN NaN       NaN  \n",
       "9             IN  False           NaN NaN       NaN  \n",
       "10            IN  False           NaN NaN       NaN  \n",
       "11            IN  False           NaN NaN       NaN  \n",
       "12            IN  False     Easy Ship NaN       NaN  \n",
       "13            IN  False           NaN NaN       NaN  \n",
       "14            IN  False     Easy Ship NaN       NaN  \n",
       "15            IN  False     Easy Ship NaN       NaN  \n",
       "16            IN  False           NaN NaN       NaN  \n",
       "17            IN  False           NaN NaN       NaN  \n",
       "18            IN  False     Easy Ship NaN       NaN  \n",
       "19            IN  False           NaN NaN       NaN  \n",
       "\n",
       "[20 rows x 21 columns]"
      ]
     },
     "execution_count": 97,
     "metadata": {},
     "output_type": "execute_result"
    }
   ],
   "source": [
    "pd.options.display.max_rows = 9999\n",
    "df.head(20)"
   ]
  },
  {
   "cell_type": "code",
   "execution_count": 98,
   "id": "b5ea17ae-c108-4e36-866a-71f65eb1e13f",
   "metadata": {},
   "outputs": [
    {
     "name": "stdout",
     "output_type": "stream",
     "text": [
      "<class 'pandas.core.frame.DataFrame'>\n",
      "RangeIndex: 128976 entries, 0 to 128975\n",
      "Data columns (total 21 columns):\n",
      " #   Column              Non-Null Count   Dtype  \n",
      "---  ------              --------------   -----  \n",
      " 0   index               128976 non-null  int64  \n",
      " 1   Order ID            128976 non-null  object \n",
      " 2   Date                128976 non-null  object \n",
      " 3   Status              128976 non-null  object \n",
      " 4   Fulfilment          128976 non-null  object \n",
      " 5   Sales Channel       128976 non-null  object \n",
      " 6   ship-service-level  128976 non-null  object \n",
      " 7   Category            128976 non-null  object \n",
      " 8   Size                128976 non-null  object \n",
      " 9   Courier Status      128976 non-null  object \n",
      " 10  Qty                 128976 non-null  int64  \n",
      " 11  currency            121176 non-null  object \n",
      " 12  Amount              121176 non-null  float64\n",
      " 13  ship-city           128941 non-null  object \n",
      " 14  ship-state          128941 non-null  object \n",
      " 15  ship-postal-code    128941 non-null  float64\n",
      " 16  ship-country        128941 non-null  object \n",
      " 17  B2B                 128976 non-null  bool   \n",
      " 18  fulfilled-by        39263 non-null   object \n",
      " 19  New                 0 non-null       float64\n",
      " 20  PendingS            0 non-null       float64\n",
      "dtypes: bool(1), float64(4), int64(2), object(14)\n",
      "memory usage: 19.8+ MB\n"
     ]
    }
   ],
   "source": [
    "df.info()"
   ]
  },
  {
   "cell_type": "code",
   "execution_count": 100,
   "id": "970c0c2d-e888-4c88-bf73-07dc902d018f",
   "metadata": {},
   "outputs": [
    {
     "data": {
      "image/png": "[encoded data removed]",
      "text/plain": [
       "<Figure size 640x480 with 1 Axes>"
      ]
     },
     "metadata": {},
     "output_type": "display_data"
    }
   ],
   "source": [
    "df=pd.read_csv('Amazon Sale Report.csv')\n",
    "\n",
    "df.plot()\n",
    "plt.show()"
   ]
  },
  {
   "cell_type": "code",
   "execution_count": 108,
   "id": "9e74d001-2e68-444a-9cf5-ae336dd9d471",
   "metadata": {},
   "outputs": [
    {
     "data": {
      "text/plain": [
       "<Axes: ylabel='Frequency'>"
      ]
     },
     "execution_count": 108,
     "metadata": {},
     "output_type": "execute_result"
    },
    {
     "data": {
      "image/png": "[encoded data removed]",
      "text/plain": [
       "<Figure size 640x480 with 1 Axes>"
      ]
     },
     "metadata": {},
     "output_type": "display_data"
    }
   ],
   "source": [
    "df.plot(kind='hist',x='Category', y='Amount')"
   ]
  },
  {
   "cell_type": "code",
   "execution_count": 105,
   "id": "1472f891-b751-4588-b8af-cf6193e68d1f",
   "metadata": {},
   "outputs": [
    {
     "data": {
      "text/plain": [
       "<Axes: ylabel='Frequency'>"
      ]
     },
     "execution_count": 105,
     "metadata": {},
     "output_type": "execute_result"
    },
    {
     "data": {
      "image/png": "[encoded data removed]",
      "text/plain": [
       "<Figure size 640x480 with 1 Axes>"
      ]
     },
     "metadata": {},
     "output_type": "display_data"
    }
   ],
   "source": [
    "df[\"Amount\"].plot(kind='hist')\n"
   ]
  },
  {
   "cell_type": "code",
   "execution_count": null,
   "id": "c376d9e8-08da-4c02-87fc-c320bd529be3",
   "metadata": {},
   "outputs": [],
   "source": []
  }
 ],
 "metadata": {
  "kernelspec": {
   "display_name": "Python 3 (ipykernel)",
   "language": "python",
   "name": "python3"
  },
  "language_info": {
   "codemirror_mode": {
    "name": "ipython",
    "version": 3
   },
   "file_extension": ".py",
   "mimetype": "text/x-python",
   "name": "python",
   "nbconvert_exporter": "python",
   "pygments_lexer": "ipython3",
   "version": "3.11.1"
  }
 },
 "nbformat": 4,
 "nbformat_minor": 5
}
